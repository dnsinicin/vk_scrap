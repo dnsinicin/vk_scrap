{
 "cells": [
  {
   "cell_type": "code",
   "execution_count": 1,
   "metadata": {},
   "outputs": [],
   "source": [
    "import pandas as pd\n",
    "# import tools_vk\n",
    "df = pd.read_csv('result1.csv')\n"
   ]
  },
  {
   "cell_type": "code",
   "execution_count": 2,
   "metadata": {},
   "outputs": [
    {
     "name": "stdout",
     "output_type": "stream",
     "text": [
      "<class 'pandas.core.frame.DataFrame'>\n",
      "RangeIndex: 820 entries, 0 to 819\n",
      "Data columns (total 25 columns):\n",
      " #   Column                    Non-Null Count  Dtype  \n",
      "---  ------                    --------------  -----  \n",
      " 0   index                     820 non-null    int64  \n",
      " 1   id                        820 non-null    int64  \n",
      " 2   from_id                   820 non-null    int64  \n",
      " 3   owner_id                  820 non-null    int64  \n",
      " 4   date                      820 non-null    int64  \n",
      " 5   marked_as_ads             820 non-null    int64  \n",
      " 6   post_type                 820 non-null    object \n",
      " 7   text                      804 non-null    object \n",
      " 8   attachments               812 non-null    object \n",
      " 9   is_favorite               820 non-null    bool   \n",
      " 10  post_source.type          820 non-null    object \n",
      " 11  comments.count            820 non-null    int64  \n",
      " 12  comments.can_post         820 non-null    int64  \n",
      " 13  comments.groups_can_post  820 non-null    bool   \n",
      " 14  likes.count               820 non-null    int64  \n",
      " 15  likes.user_likes          820 non-null    int64  \n",
      " 16  likes.can_like            820 non-null    int64  \n",
      " 17  likes.can_publish         820 non-null    int64  \n",
      " 18  reposts.count             820 non-null    int64  \n",
      " 19  reposts.user_reposted     820 non-null    int64  \n",
      " 20  views.count               720 non-null    float64\n",
      " 21  post_source.platform      8 non-null      object \n",
      " 22  copy_history              2 non-null      object \n",
      " 23  post_source.data          1 non-null      object \n",
      " 24  post_source.url           1 non-null      object \n",
      "dtypes: bool(2), float64(1), int64(14), object(8)\n",
      "memory usage: 149.1+ KB\n"
     ]
    }
   ],
   "source": [
    "df.info()"
   ]
  },
  {
   "cell_type": "code",
   "execution_count": null,
   "metadata": {},
   "outputs": [],
   "source": []
  }
 ],
 "metadata": {
  "kernelspec": {
   "display_name": "Python 3",
   "language": "python",
   "name": "python3"
  },
  "language_info": {
   "codemirror_mode": {
    "name": "ipython",
    "version": 3
   },
   "file_extension": ".py",
   "mimetype": "text/x-python",
   "name": "python",
   "nbconvert_exporter": "python",
   "pygments_lexer": "ipython3",
   "version": "3.7.9"
  }
 },
 "nbformat": 4,
 "nbformat_minor": 1
}
